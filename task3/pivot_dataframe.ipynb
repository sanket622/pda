{
 "cells": [
  {
   "cell_type": "code",
   "execution_count": 1,
   "id": "21987804",
   "metadata": {},
   "outputs": [
    {
     "data": {
      "text/plain": [
       "array([ 2,  4,  6,  8, 10, 12], dtype=int64)"
      ]
     },
     "execution_count": 1,
     "metadata": {},
     "output_type": "execute_result"
    }
   ],
   "source": [
    "import pandas as pd\n",
    "array = [2, 4, 6, 8, 10, 12]\n",
    "series_obj = pd.Series(array)\n",
    "arr = series_obj.values\n",
    "arr"
   ]
  },
  {
   "cell_type": "code",
   "execution_count": null,
   "id": "f8a61e06",
   "metadata": {},
   "outputs": [],
   "source": []
  },
  {
   "cell_type": "code",
   "execution_count": 3,
   "id": "eda9bcdc",
   "metadata": {},
   "outputs": [
    {
     "data": {
      "text/plain": [
       "array([[ 2,  4],\n",
       "       [ 6,  8],\n",
       "       [10, 12]], dtype=int64)"
      ]
     },
     "execution_count": 3,
     "metadata": {},
     "output_type": "execute_result"
    }
   ],
   "source": [
    "reshaped_arr = arr.reshape((3, 2))\n",
    "# show\n",
    "reshaped_arr"
   ]
  },
  {
   "cell_type": "code",
   "execution_count": 16,
   "id": "25c104db",
   "metadata": {},
   "outputs": [
    {
     "name": "stdout",
     "output_type": "stream",
     "text": [
      "Given Series:\n",
      " 0        Amrit\n",
      "1    Shrinivas\n",
      "2        Surya\n",
      "3       Dikesh\n",
      "4          Ram\n",
      "5        Pooja\n",
      "dtype: object\n"
     ]
    },
    {
     "data": {
      "text/plain": [
       "array(['Amrit', 'Shrinivas', 'Surya', 'Dikesh', 'Ram', 'Pooja'],\n",
       "      dtype=object)"
      ]
     },
     "execution_count": 16,
     "metadata": {},
     "output_type": "execute_result"
    }
   ],
   "source": [
    "import pandas as pd\n",
    "array = [\"Amrit\",\"Shrinivas\",\n",
    "         \"Surya\",\"Dikesh\",\n",
    "        \"Ram\",\"Pooja\"]\n",
    "series_obj = pd.Series(array)\n",
    "print(\"Given Series:\\n\", series_obj)\n",
    "arr = series_obj.values\n",
    "arr"
   ]
  },
  {
   "cell_type": "code",
   "execution_count": 17,
   "id": "c78fed7b",
   "metadata": {},
   "outputs": [
    {
     "name": "stdout",
     "output_type": "stream",
     "text": [
      "After Reshaping:\n",
      " [['Amrit' 'Shrinivas' 'Surya']\n",
      " ['Dikesh' 'Ram' 'Pooja']]\n"
     ]
    }
   ],
   "source": [
    "reshaped_arr = arr.reshape((2,3))\n",
    "print(\"After Reshaping:\\n\", reshaped_arr)"
   ]
  },
  {
   "cell_type": "code",
   "execution_count": 18,
   "id": "11ba1815",
   "metadata": {},
   "outputs": [
    {
     "data": {
      "text/html": [
       "<div>\n",
       "<style scoped>\n",
       "    .dataframe tbody tr th:only-of-type {\n",
       "        vertical-align: middle;\n",
       "    }\n",
       "\n",
       "    .dataframe tbody tr th {\n",
       "        vertical-align: top;\n",
       "    }\n",
       "\n",
       "    .dataframe thead th {\n",
       "        text-align: right;\n",
       "    }\n",
       "</style>\n",
       "<table border=\"1\" class=\"dataframe\">\n",
       "  <thead>\n",
       "    <tr style=\"text-align: right;\">\n",
       "      <th></th>\n",
       "      <th>A</th>\n",
       "      <th>B</th>\n",
       "      <th>C</th>\n",
       "    </tr>\n",
       "  </thead>\n",
       "  <tbody>\n",
       "    <tr>\n",
       "      <th>0</th>\n",
       "      <td>Joni</td>\n",
       "      <td>Master</td>\n",
       "      <td>23</td>\n",
       "    </tr>\n",
       "    <tr>\n",
       "      <th>1</th>\n",
       "      <td>Sukumar</td>\n",
       "      <td>Graduate</td>\n",
       "      <td>26</td>\n",
       "    </tr>\n",
       "    <tr>\n",
       "      <th>2</th>\n",
       "      <td>Mohan</td>\n",
       "      <td>Graduate</td>\n",
       "      <td>19</td>\n",
       "    </tr>\n",
       "  </tbody>\n",
       "</table>\n",
       "</div>"
      ],
      "text/plain": [
       "         A         B   C\n",
       "0     Joni    Master  23\n",
       "1  Sukumar  Graduate  26\n",
       "2    Mohan  Graduate  19"
      ]
     },
     "execution_count": 18,
     "metadata": {},
     "output_type": "execute_result"
    }
   ],
   "source": [
    "import pandas as pd \n",
    "df = pd.DataFrame({'A':['Joni','Sukumar','Mohan'],\n",
    "                   'B': ['Master','Graduate','Graduate'],\n",
    "                   'C': [23,26,19]})\n",
    "df"
   ]
  },
  {
   "cell_type": "code",
   "execution_count": null,
   "id": "a47083f5",
   "metadata": {},
   "outputs": [],
   "source": []
  },
  {
   "cell_type": "code",
   "execution_count": 23,
   "id": "1c2f2108",
   "metadata": {},
   "outputs": [
    {
     "data": {
      "text/html": [
       "<div>\n",
       "<style scoped>\n",
       "    .dataframe tbody tr th:only-of-type {\n",
       "        vertical-align: middle;\n",
       "    }\n",
       "\n",
       "    .dataframe tbody tr th {\n",
       "        vertical-align: top;\n",
       "    }\n",
       "\n",
       "    .dataframe thead tr th {\n",
       "        text-align: left;\n",
       "    }\n",
       "\n",
       "    .dataframe thead tr:last-of-type th {\n",
       "        text-align: right;\n",
       "    }\n",
       "</style>\n",
       "<table border=\"1\" class=\"dataframe\">\n",
       "  <thead>\n",
       "    <tr>\n",
       "      <th></th>\n",
       "      <th colspan=\"2\" halign=\"left\">C</th>\n",
       "      <th colspan=\"2\" halign=\"left\">A</th>\n",
       "    </tr>\n",
       "    <tr>\n",
       "      <th>B</th>\n",
       "      <th>Graduate</th>\n",
       "      <th>Master</th>\n",
       "      <th>Graduate</th>\n",
       "      <th>Master</th>\n",
       "    </tr>\n",
       "    <tr>\n",
       "      <th>A</th>\n",
       "      <th></th>\n",
       "      <th></th>\n",
       "      <th></th>\n",
       "      <th></th>\n",
       "    </tr>\n",
       "  </thead>\n",
       "  <tbody>\n",
       "    <tr>\n",
       "      <th>Joni</th>\n",
       "      <td>NaN</td>\n",
       "      <td>23</td>\n",
       "      <td>NaN</td>\n",
       "      <td>Joni</td>\n",
       "    </tr>\n",
       "    <tr>\n",
       "      <th>Mohan</th>\n",
       "      <td>19</td>\n",
       "      <td>NaN</td>\n",
       "      <td>Mohan</td>\n",
       "      <td>NaN</td>\n",
       "    </tr>\n",
       "    <tr>\n",
       "      <th>Sukumar</th>\n",
       "      <td>26</td>\n",
       "      <td>NaN</td>\n",
       "      <td>Sukumar</td>\n",
       "      <td>NaN</td>\n",
       "    </tr>\n",
       "  </tbody>\n",
       "</table>\n",
       "</div>"
      ],
      "text/plain": [
       "               C               A       \n",
       "B       Graduate Master Graduate Master\n",
       "A                                      \n",
       "Joni         NaN     23      NaN   Joni\n",
       "Mohan         19    NaN    Mohan    NaN\n",
       "Sukumar       26    NaN  Sukumar    NaN"
      ]
     },
     "execution_count": 23,
     "metadata": {},
     "output_type": "execute_result"
    }
   ],
   "source": [
    "df.pivot(index = 'A', columns = 'B', values = ['C', 'A'])"
   ]
  },
  {
   "cell_type": "code",
   "execution_count": 32,
   "id": "22f96093",
   "metadata": {},
   "outputs": [
    {
     "name": "stdout",
     "output_type": "stream",
     "text": [
      "Dataset\n",
      "     Name  Gender  Age\n",
      "0   Sunny  Female   27\n",
      "1  Monika  Female   23\n",
      "2    Deni  Female   35\n",
      "3   Jolly    Male   43\n",
      "4  Deepak    Male   21\n",
      "---------------------------------\n",
      "Table\n",
      "                          Name\n",
      "Gender %Gender Age Group      \n",
      "Female 60.0    >18           3\n",
      "Male   40.0    >18           2\n"
     ]
    }
   ],
   "source": [
    "import pandas as pd \n",
    "df = pd.DataFrame({'Name':['Sunny', 'Monika', 'Deni', 'Jolly', 'Deepak'],\n",
    "                           'Gender':['Female','Female','Female','Male','Male'],\n",
    "                           'Age':[27,23,35,43,21]})\n",
    "print(\"Dataset\")\n",
    "print(df)\n",
    "print(\"-\"*33)\n",
    "                    \n",
    "def age_bucket(age):\n",
    "    if age <= 18:\n",
    "        return \"<18\"\n",
    "    else:\n",
    "        return \">18\"\n",
    "df['Age Group'] = df['Age'].apply(age_bucket)\n",
    "                           \n",
    "gender = pd.DataFrame(df.Gender.value_counts(normalize = True)*100).reset_index()\n",
    "gender.columns = ['Gender', '%Gender']\n",
    "df=pd.merge(left=df, right=gender, how='inner', on=['Gender'])\n",
    "table = pd.pivot_table(df, index = ['Gender', '%Gender', 'Age Group'],\n",
    "                      values = ['Name'], aggfunc = {'Name': 'count',})\n",
    "print(\"Table\")\n",
    "print(table)"
   ]
  },
  {
   "cell_type": "code",
   "execution_count": null,
   "id": "82e67db8",
   "metadata": {},
   "outputs": [],
   "source": []
  }
 ],
 "metadata": {
  "kernelspec": {
   "display_name": "Python 3 (ipykernel)",
   "language": "python",
   "name": "python3"
  },
  "language_info": {
   "codemirror_mode": {
    "name": "ipython",
    "version": 3
   },
   "file_extension": ".py",
   "mimetype": "text/x-python",
   "name": "python",
   "nbconvert_exporter": "python",
   "pygments_lexer": "ipython3",
   "version": "3.11.4"
  }
 },
 "nbformat": 4,
 "nbformat_minor": 5
}
