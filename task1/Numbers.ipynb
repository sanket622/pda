{
 "cells": [
  {
   "cell_type": "code",
   "execution_count": 1,
   "id": "4ca1fdaf",
   "metadata": {},
   "outputs": [
    {
     "data": {
      "text/plain": [
       "6"
      ]
     },
     "execution_count": 1,
     "metadata": {},
     "output_type": "execute_result"
    }
   ],
   "source": [
    "4+2"
   ]
  },
  {
   "cell_type": "code",
   "execution_count": 3,
   "id": "dc980ec5",
   "metadata": {},
   "outputs": [
    {
     "data": {
      "text/plain": [
       "56.12"
      ]
     },
     "execution_count": 3,
     "metadata": {},
     "output_type": "execute_result"
    }
   ],
   "source": [
    "44.12+12"
   ]
  },
  {
   "cell_type": "code",
   "execution_count": 4,
   "id": "93111661",
   "metadata": {},
   "outputs": [
    {
     "data": {
      "text/plain": [
       "0.111"
      ]
     },
     "execution_count": 4,
     "metadata": {},
     "output_type": "execute_result"
    }
   ],
   "source": [
    "11.1/100"
   ]
  },
  {
   "cell_type": "code",
   "execution_count": 5,
   "id": "1b900020",
   "metadata": {},
   "outputs": [
    {
     "data": {
      "text/plain": [
       "3.5"
      ]
     },
     "execution_count": 5,
     "metadata": {},
     "output_type": "execute_result"
    }
   ],
   "source": [
    "7.0/2"
   ]
  },
  {
   "cell_type": "code",
   "execution_count": 6,
   "id": "79cdddee",
   "metadata": {},
   "outputs": [
    {
     "data": {
      "text/plain": [
       "0.2857142857142857"
      ]
     },
     "execution_count": 6,
     "metadata": {},
     "output_type": "execute_result"
    }
   ],
   "source": [
    "2/7.0"
   ]
  },
  {
   "cell_type": "code",
   "execution_count": 7,
   "id": "f318b5ba",
   "metadata": {},
   "outputs": [
    {
     "data": {
      "text/plain": [
       "228"
      ]
     },
     "execution_count": 7,
     "metadata": {},
     "output_type": "execute_result"
    }
   ],
   "source": [
    "19*12"
   ]
  },
  {
   "cell_type": "code",
   "execution_count": 8,
   "id": "618438b1",
   "metadata": {},
   "outputs": [
    {
     "data": {
      "text/plain": [
       "179"
      ]
     },
     "execution_count": 8,
     "metadata": {},
     "output_type": "execute_result"
    }
   ],
   "source": [
    "199-20"
   ]
  },
  {
   "cell_type": "code",
   "execution_count": 9,
   "id": "bdf2f232",
   "metadata": {},
   "outputs": [
    {
     "data": {
      "text/plain": [
       "-0.10000000000000142"
      ]
     },
     "execution_count": 9,
     "metadata": {},
     "output_type": "execute_result"
    }
   ],
   "source": [
    "19.90-20"
   ]
  },
  {
   "cell_type": "code",
   "execution_count": 10,
   "id": "9a643738",
   "metadata": {},
   "outputs": [
    {
     "data": {
      "text/plain": [
       "23.5"
      ]
     },
     "execution_count": 10,
     "metadata": {},
     "output_type": "execute_result"
    }
   ],
   "source": [
    "12 + 23/2"
   ]
  },
  {
   "cell_type": "code",
   "execution_count": 11,
   "id": "74de5dc0",
   "metadata": {},
   "outputs": [
    {
     "data": {
      "text/plain": [
       "1"
      ]
     },
     "execution_count": 11,
     "metadata": {},
     "output_type": "execute_result"
    }
   ],
   "source": [
    "4 % 3"
   ]
  },
  {
   "cell_type": "code",
   "execution_count": 12,
   "id": "72654474",
   "metadata": {},
   "outputs": [
    {
     "data": {
      "text/plain": [
       "2"
      ]
     },
     "execution_count": 12,
     "metadata": {},
     "output_type": "execute_result"
    }
   ],
   "source": [
    "23 % 3"
   ]
  },
  {
   "cell_type": "code",
   "execution_count": 14,
   "id": "7fc9119e",
   "metadata": {},
   "outputs": [
    {
     "data": {
      "text/plain": [
       "36"
      ]
     },
     "execution_count": 14,
     "metadata": {},
     "output_type": "execute_result"
    }
   ],
   "source": [
    "2 * 3 + 5 * 6"
   ]
  },
  {
   "cell_type": "code",
   "execution_count": 20,
   "id": "a0d100d9",
   "metadata": {},
   "outputs": [
    {
     "data": {
      "text/plain": [
       "10.0"
      ]
     },
     "execution_count": 20,
     "metadata": {},
     "output_type": "execute_result"
    }
   ],
   "source": [
    "(12*10)/12"
   ]
  },
  {
   "cell_type": "code",
   "execution_count": 21,
   "id": "d622363b",
   "metadata": {},
   "outputs": [
    {
     "data": {
      "text/plain": [
       "20"
      ]
     },
     "execution_count": 21,
     "metadata": {},
     "output_type": "execute_result"
    }
   ],
   "source": [
    "(43+10+12)-45"
   ]
  },
  {
   "cell_type": "code",
   "execution_count": 22,
   "id": "55d8b06d",
   "metadata": {},
   "outputs": [
    {
     "data": {
      "text/plain": [
       "154.8"
      ]
     },
     "execution_count": 22,
     "metadata": {},
     "output_type": "execute_result"
    }
   ],
   "source": [
    "12*12.9"
   ]
  },
  {
   "cell_type": "code",
   "execution_count": 23,
   "id": "a83a01a9",
   "metadata": {},
   "outputs": [
    {
     "data": {
      "text/plain": [
       "91.74"
      ]
     },
     "execution_count": 23,
     "metadata": {},
     "output_type": "execute_result"
    }
   ],
   "source": [
    "11*8.34"
   ]
  },
  {
   "cell_type": "code",
   "execution_count": 24,
   "id": "0916fb26",
   "metadata": {},
   "outputs": [
    {
     "data": {
      "text/plain": [
       "413.43999999999994"
      ]
     },
     "execution_count": 24,
     "metadata": {},
     "output_type": "execute_result"
    }
   ],
   "source": [
    "12*34.4+3.2/5"
   ]
  },
  {
   "cell_type": "code",
   "execution_count": null,
   "id": "02e13910",
   "metadata": {},
   "outputs": [],
   "source": []
  }
 ],
 "metadata": {
  "kernelspec": {
   "display_name": "Python 3 (ipykernel)",
   "language": "python",
   "name": "python3"
  },
  "language_info": {
   "codemirror_mode": {
    "name": "ipython",
    "version": 3
   },
   "file_extension": ".py",
   "mimetype": "text/x-python",
   "name": "python",
   "nbconvert_exporter": "python",
   "pygments_lexer": "ipython3",
   "version": "3.11.4"
  }
 },
 "nbformat": 4,
 "nbformat_minor": 5
}
