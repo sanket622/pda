{
 "cells": [
  {
   "cell_type": "code",
   "execution_count": 2,
   "id": "a929213e",
   "metadata": {},
   "outputs": [
    {
     "name": "stdout",
     "output_type": "stream",
     "text": [
      "hello world\n"
     ]
    }
   ],
   "source": [
    "x = \"hello\"\n",
    "y = \"world\"\n",
    "print (x,y)"
   ]
  },
  {
   "cell_type": "code",
   "execution_count": 10,
   "id": "e1d93769",
   "metadata": {},
   "outputs": [
    {
     "name": "stdout",
     "output_type": "stream",
     "text": [
      "This is the multi line string\n",
      "wtrite in three line. multi line string can use in three line\n"
     ]
    }
   ],
   "source": [
    "x = \"\"\"This is the multi line string\n",
    "wtrite in three line.\"\"\"\n",
    "y = \"multi line string can use in three line\"\n",
    "print (x,y)"
   ]
  },
  {
   "cell_type": "code",
   "execution_count": 8,
   "id": "ab17c3d3",
   "metadata": {},
   "outputs": [
    {
     "name": "stdout",
     "output_type": "stream",
     "text": [
      "Dwarka Prasad mahla\n"
     ]
    }
   ],
   "source": [
    "a = \"Dwarka\"\n",
    "b = \"Prasad\"\n",
    "c = \"mahla\"\n",
    "print(a,b,c)"
   ]
  },
  {
   "cell_type": "code",
   "execution_count": 21,
   "id": "ec5d49c3",
   "metadata": {},
   "outputs": [
    {
     "name": "stdout",
     "output_type": "stream",
     "text": [
      "(2235, 'Dwarka', 23, 'MCA')\n"
     ]
    }
   ],
   "source": [
    "rollnumber = 2235\n",
    "name = \"Dwarka\"\n",
    "age = 23\n",
    "course = \"MCA\"\n",
    "all = rollnumber,name,age,course\n",
    "print(all)"
   ]
  },
  {
   "cell_type": "code",
   "execution_count": 31,
   "id": "50492389",
   "metadata": {},
   "outputs": [
    {
     "name": "stdout",
     "output_type": "stream",
     "text": [
      "Hello Guys!!!!\n"
     ]
    }
   ],
   "source": [
    "msg = \"Hello Guys!!!!\"\n",
    "print(msg)"
   ]
  },
  {
   "cell_type": "code",
   "execution_count": 44,
   "id": "695088b9",
   "metadata": {},
   "outputs": [
    {
     "name": "stdout",
     "output_type": "stream",
     "text": [
      "Hello am start learning pyhton\n",
      "It's very intresting programing, language and it's very easy.\n"
     ]
    }
   ],
   "source": [
    "p = \"\"\"Hello am start learning pyhton\n",
    "It's very intresting programing,\"\"\"\n",
    "r = \"language and it's very easy.\"\n",
    "print(p,r)"
   ]
  },
  {
   "cell_type": "code",
   "execution_count": null,
   "id": "5e433da0",
   "metadata": {},
   "outputs": [],
   "source": []
  },
  {
   "cell_type": "code",
   "execution_count": null,
   "id": "9b71889e",
   "metadata": {},
   "outputs": [],
   "source": []
  },
  {
   "cell_type": "code",
   "execution_count": null,
   "id": "69c4f6ad",
   "metadata": {},
   "outputs": [],
   "source": []
  },
  {
   "cell_type": "code",
   "execution_count": null,
   "id": "ede7e257",
   "metadata": {},
   "outputs": [],
   "source": []
  },
  {
   "cell_type": "code",
   "execution_count": null,
   "id": "ed733718",
   "metadata": {},
   "outputs": [],
   "source": []
  }
 ],
 "metadata": {
  "kernelspec": {
   "display_name": "Python 3 (ipykernel)",
   "language": "python",
   "name": "python3"
  },
  "language_info": {
   "codemirror_mode": {
    "name": "ipython",
    "version": 3
   },
   "file_extension": ".py",
   "mimetype": "text/x-python",
   "name": "python",
   "nbconvert_exporter": "python",
   "pygments_lexer": "ipython3",
   "version": "3.11.4"
  }
 },
 "nbformat": 4,
 "nbformat_minor": 5
}
