{
 "cells": [
  {
   "cell_type": "code",
   "execution_count": 1,
   "id": "33c23643",
   "metadata": {},
   "outputs": [
    {
     "data": {
      "text/plain": [
       "16"
      ]
     },
     "execution_count": 1,
     "metadata": {},
     "output_type": "execute_result"
    }
   ],
   "source": [
    "def square(x):\n",
    "    return x * x\n",
    "\n",
    "square(4)"
   ]
  },
  {
   "cell_type": "code",
   "execution_count": 17,
   "id": "42e7ddc9",
   "metadata": {},
   "outputs": [
    {
     "data": {
      "text/plain": [
       "81"
      ]
     },
     "execution_count": 17,
     "metadata": {},
     "output_type": "execute_result"
    }
   ],
   "source": [
    "square(5) + square(3)\n",
    "13\n",
    "square(square(3))"
   ]
  },
  {
   "cell_type": "code",
   "execution_count": 11,
   "id": "06c55ab1",
   "metadata": {},
   "outputs": [
    {
     "data": {
      "text/plain": [
       "25"
      ]
     },
     "execution_count": 11,
     "metadata": {},
     "output_type": "execute_result"
    }
   ],
   "source": [
    "def sum_of_square(a,b):\n",
    "   return square(a) + square(b)\n",
    "sum_of_square(3,4)"
   ]
  },
  {
   "cell_type": "code",
   "execution_count": 12,
   "id": "08234e94",
   "metadata": {},
   "outputs": [
    {
     "data": {
      "text/plain": [
       "25"
      ]
     },
     "execution_count": 12,
     "metadata": {},
     "output_type": "execute_result"
    }
   ],
   "source": [
    "f = square\n",
    "f(5)\n"
   ]
  },
  {
   "cell_type": "code",
   "execution_count": 15,
   "id": "3233baad",
   "metadata": {},
   "outputs": [
    {
     "data": {
      "text/plain": [
       "13"
      ]
     },
     "execution_count": 15,
     "metadata": {},
     "output_type": "execute_result"
    }
   ],
   "source": [
    "f = square\n",
    "f(5)\n",
    "\n",
    "def fxy(f, x, y):\n",
    "  return f(x) + f(y)\n",
    "fxy(square, 2, 3)"
   ]
  },
  {
   "cell_type": "code",
   "execution_count": 16,
   "id": "ab9a211e",
   "metadata": {},
   "outputs": [
    {
     "name": "stdout",
     "output_type": "stream",
     "text": [
      "0 0\n"
     ]
    }
   ],
   "source": [
    "x = 0\n",
    "y = 0\n",
    "def incr(x):\n",
    "    y = x+1\n",
    "    return y\n",
    "incr(5)\n",
    "print(x,y)"
   ]
  },
  {
   "cell_type": "code",
   "execution_count": 19,
   "id": "cc8e50a5",
   "metadata": {},
   "outputs": [],
   "source": [
    "pi = 3.14\n",
    "def area(r):\n",
    "    return pi * r * r"
   ]
  },
  {
   "cell_type": "code",
   "execution_count": 22,
   "id": "70c6c78a",
   "metadata": {},
   "outputs": [],
   "source": [
    "numcalls = 0\n",
    "def square(x):\n",
    "    global numcalls\n",
    "    numcalls = numcalls + 1\n",
    "    return x * x\n"
   ]
  },
  {
   "cell_type": "code",
   "execution_count": 31,
   "id": "e6afcb12",
   "metadata": {},
   "outputs": [
    {
     "name": "stdout",
     "output_type": "stream",
     "text": [
      "36\n",
      "324\n"
     ]
    }
   ],
   "source": [
    "print (square(6))\n",
    "print (square(3*6))"
   ]
  },
  {
   "cell_type": "code",
   "execution_count": 30,
   "id": "ba1f08bc",
   "metadata": {},
   "outputs": [
    {
     "name": "stdout",
     "output_type": "stream",
     "text": [
      "1\n",
      "2\n",
      "1\n"
     ]
    }
   ],
   "source": [
    "x = 1\n",
    "def f():\n",
    "    x = 2\n",
    "    return x\n",
    "print (x)\n",
    "print (f())\n",
    "print (x)"
   ]
  },
  {
   "cell_type": "code",
   "execution_count": 47,
   "id": "9148a8e5",
   "metadata": {},
   "outputs": [
    {
     "name": "stdout",
     "output_type": "stream",
     "text": [
      "1\n"
     ]
    },
    {
     "data": {
      "text/plain": [
       "3"
      ]
     },
     "execution_count": 47,
     "metadata": {},
     "output_type": "execute_result"
    }
   ],
   "source": [
    "\n",
    "def f():\n",
    "    x = 1\n",
    "    y = x\n",
    "    x = 2\n",
    "    return (x + y)\n",
    "print(x)\n",
    "f()\n"
   ]
  },
  {
   "cell_type": "code",
   "execution_count": 36,
   "id": "082b6dc4",
   "metadata": {},
   "outputs": [
    {
     "name": "stdout",
     "output_type": "stream",
     "text": [
      "3 25\n"
     ]
    }
   ],
   "source": [
    "x = 3\n",
    "def f(a):\n",
    "    x = a * a\n",
    "    return x\n",
    "y = f(5)\n",
    "print(x,y)"
   ]
  },
  {
   "cell_type": "code",
   "execution_count": 39,
   "id": "f1079193",
   "metadata": {},
   "outputs": [
    {
     "data": {
      "text/plain": [
       "3"
      ]
     },
     "execution_count": 39,
     "metadata": {},
     "output_type": "execute_result"
    }
   ],
   "source": [
    "def difference(x,y):\n",
    "    return x - y\n",
    "difference(5, 2)"
   ]
  },
  {
   "cell_type": "code",
   "execution_count": 40,
   "id": "5bd8d4e4",
   "metadata": {},
   "outputs": [
    {
     "data": {
      "text/plain": [
       "3"
      ]
     },
     "execution_count": 40,
     "metadata": {},
     "output_type": "execute_result"
    }
   ],
   "source": [
    "difference(x = 5, y = 2)"
   ]
  },
  {
   "cell_type": "code",
   "execution_count": 41,
   "id": "abbde1ac",
   "metadata": {},
   "outputs": [
    {
     "data": {
      "text/plain": [
       "3"
      ]
     },
     "execution_count": 41,
     "metadata": {},
     "output_type": "execute_result"
    }
   ],
   "source": [
    "difference(5, y = 2)"
   ]
  },
  {
   "cell_type": "code",
   "execution_count": 42,
   "id": "04934f85",
   "metadata": {},
   "outputs": [
    {
     "data": {
      "text/plain": [
       "3"
      ]
     },
     "execution_count": 42,
     "metadata": {},
     "output_type": "execute_result"
    }
   ],
   "source": [
    "difference(y = 2, x = 5)"
   ]
  },
  {
   "cell_type": "code",
   "execution_count": 48,
   "id": "27f82ec7",
   "metadata": {},
   "outputs": [
    {
     "data": {
      "text/plain": [
       "101"
      ]
     },
     "execution_count": 48,
     "metadata": {},
     "output_type": "execute_result"
    }
   ],
   "source": [
    "def incerment(x, amount = 1):\n",
    "    return x + amount\n",
    "incerment(100)"
   ]
  },
  {
   "cell_type": "code",
   "execution_count": 49,
   "id": "41532984",
   "metadata": {},
   "outputs": [
    {
     "data": {
      "text/plain": [
       "201"
      ]
     },
     "execution_count": 49,
     "metadata": {},
     "output_type": "execute_result"
    }
   ],
   "source": [
    "incerment(200)"
   ]
  },
  {
   "cell_type": "code",
   "execution_count": 50,
   "id": "65246a3e",
   "metadata": {},
   "outputs": [
    {
     "data": {
      "text/plain": [
       "1011"
      ]
     },
     "execution_count": 50,
     "metadata": {},
     "output_type": "execute_result"
    }
   ],
   "source": [
    "incerment(1010)"
   ]
  },
  {
   "cell_type": "code",
   "execution_count": 51,
   "id": "f4b8472c",
   "metadata": {},
   "outputs": [
    {
     "data": {
      "text/plain": [
       "15"
      ]
     },
     "execution_count": 51,
     "metadata": {},
     "output_type": "execute_result"
    }
   ],
   "source": [
    "incerment(10, 5)"
   ]
  },
  {
   "cell_type": "code",
   "execution_count": 52,
   "id": "28cbd159",
   "metadata": {},
   "outputs": [
    {
     "data": {
      "text/plain": [
       "12"
      ]
     },
     "execution_count": 52,
     "metadata": {},
     "output_type": "execute_result"
    }
   ],
   "source": [
    "incerment(10, amount = 2)"
   ]
  },
  {
   "cell_type": "code",
   "execution_count": 53,
   "id": "15140fed",
   "metadata": {},
   "outputs": [
    {
     "data": {
      "text/plain": [
       "35"
      ]
     },
     "execution_count": 53,
     "metadata": {},
     "output_type": "execute_result"
    }
   ],
   "source": [
    "cube = lambda x: x ** 3\n",
    "fxy(cube, 2, 3)"
   ]
  },
  {
   "cell_type": "code",
   "execution_count": 54,
   "id": "d5964290",
   "metadata": {},
   "outputs": [
    {
     "data": {
      "text/plain": [
       "35"
      ]
     },
     "execution_count": 54,
     "metadata": {},
     "output_type": "execute_result"
    }
   ],
   "source": [
    "fxy(lambda x: x ** 3,  2, 3)"
   ]
  },
  {
   "cell_type": "code",
   "execution_count": null,
   "id": "8695c930",
   "metadata": {},
   "outputs": [],
   "source": []
  }
 ],
 "metadata": {
  "kernelspec": {
   "display_name": "Python 3 (ipykernel)",
   "language": "python",
   "name": "python3"
  },
  "language_info": {
   "codemirror_mode": {
    "name": "ipython",
    "version": 3
   },
   "file_extension": ".py",
   "mimetype": "text/x-python",
   "name": "python",
   "nbconvert_exporter": "python",
   "pygments_lexer": "ipython3",
   "version": "3.11.4"
  }
 },
 "nbformat": 4,
 "nbformat_minor": 5
}
