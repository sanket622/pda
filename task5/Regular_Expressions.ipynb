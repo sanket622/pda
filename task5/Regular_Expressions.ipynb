{
 "cells": [
  {
   "cell_type": "code",
   "execution_count": 5,
   "id": "e0df63c9",
   "metadata": {},
   "outputs": [
    {
     "name": "stdout",
     "output_type": "stream",
     "text": [
      "['The ']\n",
      "Yes, there is a match!\n"
     ]
    }
   ],
   "source": [
    "import re\n",
    "txt = \"The rain in Spain\"\n",
    "x = re.findall(\"\\AThe \", txt)\n",
    "print(x)\n",
    "if x:\n",
    "    print(\"Yes, there is a match!\")\n",
    "else:\n",
    "        print(\"No match!\")"
   ]
  },
  {
   "cell_type": "code",
   "execution_count": 11,
   "id": "71b9a138",
   "metadata": {},
   "outputs": [
    {
     "name": "stdout",
     "output_type": "stream",
     "text": [
      "<re.Match object; span=(21, 27), match='portal'>\n",
      "portal\n",
      "Start Index: 21\n",
      "End Index: 27\n"
     ]
    }
   ],
   "source": [
    "match = re.search(r'portal', 'A computer science \\ portal for Education')\n",
    "print(match)\n",
    "print(match.group())\n",
    "\n",
    "print('Start Index:' ,match.start())\n",
    "print('End Index:', match.end())"
   ]
  },
  {
   "cell_type": "code",
   "execution_count": 12,
   "id": "811fcb43",
   "metadata": {},
   "outputs": [
    {
     "name": "stdout",
     "output_type": "stream",
     "text": [
      "['Education', 'education', 'education']\n"
     ]
    }
   ],
   "source": [
    "print(re.findall(r'[Ee]ducation', 'Education of education: \\ A computer science portal for education'))"
   ]
  },
  {
   "cell_type": "code",
   "execution_count": 13,
   "id": "e22715e9",
   "metadata": {},
   "outputs": [
    {
     "name": "stdout",
     "output_type": "stream",
     "text": [
      "Range <re.Match object; span=(0, 1), match='x'>\n"
     ]
    }
   ],
   "source": [
    "print('Range', re.search(r'[a-zA-Z]','x'))"
   ]
  },
  {
   "cell_type": "code",
   "execution_count": 14,
   "id": "8a893c17",
   "metadata": {},
   "outputs": [
    {
     "name": "stdout",
     "output_type": "stream",
     "text": [
      "3\n",
      "4\n",
      "5\n"
     ]
    }
   ],
   "source": [
    "x = range(3,6)\n",
    "for n in x:\n",
    "    print(n)"
   ]
  },
  {
   "cell_type": "code",
   "execution_count": 15,
   "id": "f6a621df",
   "metadata": {},
   "outputs": [
    {
     "name": "stdout",
     "output_type": "stream",
     "text": [
      "3\n",
      "5\n",
      "7\n",
      "9\n",
      "11\n",
      "13\n",
      "15\n",
      "17\n",
      "19\n"
     ]
    }
   ],
   "source": [
    "x = range(3, 20, 2)\n",
    "for n in x:\n",
    "    print(n)"
   ]
  },
  {
   "cell_type": "code",
   "execution_count": 16,
   "id": "a7a4ce24",
   "metadata": {},
   "outputs": [
    {
     "name": "stdout",
     "output_type": "stream",
     "text": [
      "None\n"
     ]
    }
   ],
   "source": [
    "print(re.search(r'[^a-z]', 'c'))"
   ]
  },
  {
   "cell_type": "code",
   "execution_count": 17,
   "id": "77f812c7",
   "metadata": {},
   "outputs": [
    {
     "name": "stdout",
     "output_type": "stream",
     "text": [
      "None\n"
     ]
    }
   ],
   "source": [
    "print(re.search(r'C[^l]','Class'))"
   ]
  },
  {
   "cell_type": "code",
   "execution_count": 19,
   "id": "027bc7e3",
   "metadata": {},
   "outputs": [
    {
     "name": "stdout",
     "output_type": "stream",
     "text": [
      "Beg.of String: None\n",
      "Beg.of String: <re.Match object; span=(0, 2), match='is'>\n",
      "End of String: <re.Match object; span=(28, 37), match='education'>\n"
     ]
    }
   ],
   "source": [
    "match = re.search(r'^is', 'This is the month')\n",
    "print('Beg.of String:', match)\n",
    "match = re.search(r'^is', 'is the month')\n",
    "print('Beg.of String:', match)\n",
    "match = re.search(r'education$', 'Computer science portal for education')\n",
    "print('End of String:', match)"
   ]
  },
  {
   "cell_type": "code",
   "execution_count": 20,
   "id": "c6a1e566",
   "metadata": {},
   "outputs": [
    {
     "name": "stdout",
     "output_type": "stream",
     "text": [
      "Any Character <re.Match object; span=(0, 6), match='python'>\n"
     ]
    }
   ],
   "source": [
    "print('Any Character', re.search(r'p.th.n', 'python 3'))"
   ]
  },
  {
   "cell_type": "code",
   "execution_count": 21,
   "id": "5d811eb3",
   "metadata": {},
   "outputs": [
    {
     "name": "stdout",
     "output_type": "stream",
     "text": [
      "Color <re.Match object; span=(0, 5), match='color'>\n",
      "Colour <re.Match object; span=(0, 6), match='colour'>\n"
     ]
    }
   ],
   "source": [
    "print('Color', re.search(r'colou?r', 'color'))\n",
    "print('Colour', re.search(r'colou?r', 'colour'))"
   ]
  },
  {
   "cell_type": "code",
   "execution_count": 23,
   "id": "830b5aaa",
   "metadata": {},
   "outputs": [
    {
     "name": "stdout",
     "output_type": "stream",
     "text": [
      "Date{mm-dd-yyyy}: <re.Match object; span=(0, 10), match='13-07-2023'>\n"
     ]
    }
   ],
   "source": [
    "print('Date{mm-dd-yyyy}:', re.search(r'[\\d]{2}-[\\d]{2}-[\\d]{4}','13-07-2023'))"
   ]
  },
  {
   "cell_type": "code",
   "execution_count": 24,
   "id": "14ca6630",
   "metadata": {},
   "outputs": [
    {
     "name": "stdout",
     "output_type": "stream",
     "text": [
      "Three Digit: <re.Match object; span=(0, 3), match='189'>\n",
      "Four Digit: <re.Match object; span=(0, 4), match='2145'>\n"
     ]
    }
   ],
   "source": [
    "print('Three Digit:', re.search(r'[\\d]{3,4}', '189'))\n",
    "print('Four Digit:', re.search(r'[\\d]{3,4}', '2145'))"
   ]
  },
  {
   "cell_type": "code",
   "execution_count": 25,
   "id": "d9477ba5",
   "metadata": {},
   "outputs": [
    {
     "name": "stdout",
     "output_type": "stream",
     "text": [
      "<re.Match object; span=(0, 1), match='5'>\n"
     ]
    }
   ],
   "source": [
    "print(re.search(r'[\\d]{1,}','5th Floor, B-218,\\Sector-136, Noida, Uttar Pradesh - 201405'))"
   ]
  },
  {
   "cell_type": "code",
   "execution_count": 26,
   "id": "f51473b1",
   "metadata": {},
   "outputs": [
    {
     "name": "stdout",
     "output_type": "stream",
     "text": [
      "<re.Match object; span=(0, 1), match='5'>\n"
     ]
    }
   ],
   "source": [
    "print(re.search(r'[\\d]+','5th Floor, B-218,\\Sector-136, Noida, Uttar Pradesh - 201405'))"
   ]
  },
  {
   "cell_type": "code",
   "execution_count": 27,
   "id": "272a785f",
   "metadata": {},
   "outputs": [
    {
     "name": "stdout",
     "output_type": "stream",
     "text": [
      "<re.Match object; span=(0, 10), match='12-07-2023'>\n"
     ]
    }
   ],
   "source": [
    "grp = re.search(r'([\\d]{2})-([\\d]{2})-([\\d]{4})', '12-07-2023')\n",
    "print(grp)"
   ]
  },
  {
   "cell_type": "code",
   "execution_count": 28,
   "id": "0a814abb",
   "metadata": {},
   "outputs": [
    {
     "name": "stdout",
     "output_type": "stream",
     "text": [
      "('14', '07', '2023')\n"
     ]
    }
   ],
   "source": [
    "grp = re.search(r'([\\d]{2})-([\\d]{2})-([\\d]{4})', '14-07-2023')\n",
    "print(grp.groups())"
   ]
  },
  {
   "cell_type": "code",
   "execution_count": 30,
   "id": "2244f37f",
   "metadata": {},
   "outputs": [
    {
     "name": "stdout",
     "output_type": "stream",
     "text": [
      "2023\n"
     ]
    }
   ],
   "source": [
    "grp = re.search(r'([\\d]{2})-([\\d]{2})-([\\d]{4})','14-07-2023')\n",
    "print(grp.group(3))"
   ]
  },
  {
   "cell_type": "code",
   "execution_count": 31,
   "id": "559686ff",
   "metadata": {},
   "outputs": [
    {
     "name": "stdout",
     "output_type": "stream",
     "text": [
      "14\n"
     ]
    }
   ],
   "source": [
    "grp = re.search(r'(?P<dd>[\\d]{2})-(?P<mm>[\\d]{2})-(?P<yyyy>[\\d]{4})','14-07-2023')\n",
    "print(grp.group('dd'))"
   ]
  },
  {
   "cell_type": "code",
   "execution_count": 32,
   "id": "d4de236b",
   "metadata": {},
   "outputs": [
    {
     "name": "stdout",
     "output_type": "stream",
     "text": [
      "{'dd': '14', 'mm': '07', 'yyyy': '2023'}\n"
     ]
    }
   ],
   "source": [
    "grp = re.search(r'(?P<dd>[\\d]{2})-(?P<mm>[\\d]{2})-(?P<yyyy>[\\d]{4})','14-07-2023')\n",
    "print(grp.groupdict())"
   ]
  },
  {
   "cell_type": "code",
   "execution_count": 33,
   "id": "bbdd4243",
   "metadata": {},
   "outputs": [
    {
     "name": "stdout",
     "output_type": "stream",
     "text": [
      "negation: None\n",
      "lookahead: <re.Match object; span=(5, 6), match='n'>\n"
     ]
    }
   ],
   "source": [
    "print('negation:',re.search(r'n[^e]', 'Pyhton'))\n",
    "print('lookahead:',re.search(r'n(?!e)', 'Pyhton'))"
   ]
  },
  {
   "cell_type": "code",
   "execution_count": 34,
   "id": "4adfc82c",
   "metadata": {},
   "outputs": [
    {
     "name": "stdout",
     "output_type": "stream",
     "text": [
      "positive lookahead <re.Match object; span=(5, 6), match='n'>\n"
     ]
    }
   ],
   "source": [
    "print('positive lookahead', re.search(r'n(?=e)', 'jasmine'))"
   ]
  },
  {
   "cell_type": "code",
   "execution_count": 36,
   "id": "7d77ab34",
   "metadata": {},
   "outputs": [
    {
     "name": "stdout",
     "output_type": "stream",
     "text": [
      "1111222233334444\n"
     ]
    }
   ],
   "source": [
    "print(re.sub(r'([\\d]{4})-([\\d]{4})-([\\d]{4})-([\\d]{4})',r'\\1\\2\\3\\4','1111-2222-3333-4444'))"
   ]
  },
  {
   "cell_type": "code",
   "execution_count": 39,
   "id": "652dfb3e",
   "metadata": {},
   "outputs": [
    {
     "name": "stdout",
     "output_type": "stream",
     "text": [
      "compiled reg expr <re.Match object; span=(0, 10), match='13-07-2023'>\n",
      "13.07.2023\n"
     ]
    }
   ],
   "source": [
    "regex = re.compile(r'([\\d]{2})-([\\d]{2})-([\\d]{4})')\n",
    "print('compiled reg expr', regex.search('13-07-2023'))\n",
    "print(regex.sub(r'\\1.\\2.\\3','13-07-2023'))"
   ]
  },
  {
   "cell_type": "code",
   "execution_count": null,
   "id": "38114ab8",
   "metadata": {},
   "outputs": [],
   "source": []
  }
 ],
 "metadata": {
  "kernelspec": {
   "display_name": "Python 3 (ipykernel)",
   "language": "python",
   "name": "python3"
  },
  "language_info": {
   "codemirror_mode": {
    "name": "ipython",
    "version": 3
   },
   "file_extension": ".py",
   "mimetype": "text/x-python",
   "name": "python",
   "nbconvert_exporter": "python",
   "pygments_lexer": "ipython3",
   "version": "3.11.4"
  }
 },
 "nbformat": 4,
 "nbformat_minor": 5
}
